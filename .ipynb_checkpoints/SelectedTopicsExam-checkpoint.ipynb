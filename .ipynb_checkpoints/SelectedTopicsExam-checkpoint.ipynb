{
 "cells": [
  {
   "cell_type": "markdown",
   "metadata": {},
   "source": [
    "\\begin{align*}\n",
    "p_{* \\dagger}(x) & \\quad = \\quad \\exp(-7.85785 + 0.01538 x + 0.000577355 x^2)\\\\\n",
    "p_{* \\diamondsuit_{1}}(x) & \\quad = \\quad 3\\cdot 10^{-4} \\cdot (8.4764-1.0985x + 0.055x^2)\\\\\n",
    "p_{\\diamondsuit_{k} \\dagger}(x) & \\quad = \\quad p_{* \\dagger}(x) + 0.008\\\\\n",
    "p_{\\diamondsuit_{k} *}(x) & \\quad = \\quad \\left \\{ \\array{ \\exp(-0.94(k-1)) \\cdot \\alpha(x, k), &\\text{for } k < 8 \\\\ 0, & \\text{otherwise}} \\right.\\\\\n",
    "\\alpha(x,k) & \\quad = \\quad \\max(0,0.773763-0.01045(x-k + 1))\\\\\n",
    "\\end{align*}"
   ]
  },
  {
   "cell_type": "code",
   "execution_count": 43,
   "metadata": {},
   "outputs": [],
   "source": [
    "# Start age of insurance\n",
    "x0 = 20\n",
    "# End age ie last payment in period [s-1,s[\n",
    "xend = 65\n",
    "# Interest Rate\n",
    "interestrate = 0.02\n",
    "# Annual Annuity\n",
    "annuity = 12000."
   ]
  },
  {
   "cell_type": "code",
   "execution_count": 44,
   "metadata": {},
   "outputs": [],
   "source": [
    "import numpy as np\n",
    "\n",
    "# Mortality for healthy at age x\n",
    "def mua(x):\n",
    "    return(np.exp(-7.85785 + 0.01538*x + 0.000577355*x**2))\n",
    "\n",
    "# Mortality for disabled at age x\n",
    "def mui(x):\n",
    "    return(mua(x)+0.008)\n",
    "\n",
    "#Probability to become disabled at age x\n",
    "def sigma(x):\n",
    "    return(3.e-4 * (8.4764-1.0985*x + 0.055*x**2))\n",
    "\n",
    "def alpha(x,k):\n",
    "    return(max(0,0.773763-0.01045*(x - k + 1)))\n",
    "# Reactivation probability for state \\diamondsuit_k and age x\n",
    "def rx(x,k,foreversick):\n",
    "    if (k>= foreversick): return(0.)\n",
    "    return(np.exp(-0.94*(k-1)) * alpha(x, k))\n",
    "\n",
    "def stayhealty(x):\n",
    "    return 1 - mua(x) - sigma(x)\n",
    "\n",
    "def staysick(x, status, foreversick):\n",
    "    return 1 - mui(x) - rx(x, status, foreversick)"
   ]
  },
  {
   "cell_type": "code",
   "execution_count": 45,
   "metadata": {},
   "outputs": [],
   "source": [
    "#Probability stay healty 25-65\n",
    "def alwayshealty(n):\n",
    "    if (n < 25): raise ValueError('the age has to be between 25 and 65 years')\n",
    "    if (n == 25): return 1\n",
    "    return alwayshealty(n-1) - mua(n - 1) - mui(n - 1)"
   ]
  },
  {
   "cell_type": "code",
   "execution_count": 46,
   "metadata": {},
   "outputs": [
    {
     "name": "stdout",
     "output_type": "stream",
     "text": [
      "0.3996904441523529\n"
     ]
    }
   ],
   "source": [
    "a = alwayshealty(65)\n",
    "print(a)"
   ]
  },
  {
   "cell_type": "code",
   "execution_count": 55,
   "metadata": {},
   "outputs": [],
   "source": [
    "# Thiele's equation\n",
    "\n",
    "class Thiele():\n",
    "    \n",
    "    def __init__(self):\n",
    "        self.stati = {}\n",
    "        self.healthy = 0\n",
    "        self.firstsick = 1\n",
    "        self.foreversick = 8\n",
    "        self.dead = self.foreversick + 1\n",
    "        self.sicknessrange = range(1, self.dead)\n",
    "        \n",
    "    def alreadycalculated(self, n, status):\n",
    "        retrieved = self.stati.get(n)\n",
    "        if (retrieved == None): return False\n",
    "        else: return (retrieved.get(status) != None)\n",
    "    \n",
    "    def save(self, n, status, res):\n",
    "        retrieved = self.stati.get(n)\n",
    "        if (retrieved == None): self.stati[n] = {}\n",
    "        self.stati[n][status] = res\n",
    "        \n",
    "        \n",
    "    def prepayment(self, n, status):\n",
    "        if (status == self.healthy or status == self.dead):\n",
    "            return 0.\n",
    "        elif (status in self.sicknessrange):\n",
    "            return annuity\n",
    "        else:\n",
    "            raise ValueError('The status given for the prepayment is not contemplated')\n",
    "\n",
    "    def postpayment(self, n, status, newstatus):\n",
    "        return 0.\n",
    "\n",
    "    def transitionprobability(self, n, status, newstatus):\n",
    "            if (status == self.healthy):\n",
    "                if (newstatus == self.healthy): return stayhealty(n)\n",
    "                elif (newstatus == self.firstsick): return sigma(n)\n",
    "                elif (newstatus == self.dead): return mua(n)\n",
    "                else: return 0.\n",
    "            elif (status in self.sicknessrange):\n",
    "                if (newstatus == self.dead): return mui(n)\n",
    "                elif (newstatus == self.healthy): return rx(n, status, self.foreversick)\n",
    "                elif (newstatus == status + 1): return staysick(n, status, self.foreversick)\n",
    "                else: return 0.\n",
    "            elif (status == self.dead):\n",
    "                if (newstatus == self.dead): return 1.\n",
    "                else: return 0.               \n",
    "            else:\n",
    "                raise ValueError('The status given for the transition probability is not contemplated')\n",
    "\n",
    "    def reserves(self, n, status):\n",
    "        if (n == xend): return 0.\n",
    "        if (status == self.dead): return 0.\n",
    "        if self.alreadycalculated(n, status): return self.stati[n][status]\n",
    "        interest = 1/(1 + interestrate)\n",
    "        subsequent = 0\n",
    "        for newstatus in range(self.dead + 1):\n",
    "            tp = self.transitionprobability(n, status, newstatus)\n",
    "            if tp > 0:\n",
    "                subsequent += tp * (self.postpayment(n, status, newstatus) + self.reserves(n+1, newstatus))\n",
    "        res = self.prepayment(n, status) + interest * subsequent\n",
    "        self.save(n, status, res)\n",
    "        return self.prepayment(n, status) + interest * subsequent\n",
    "            "
   ]
  },
  {
   "cell_type": "code",
   "execution_count": 56,
   "metadata": {},
   "outputs": [
    {
     "name": "stdout",
     "output_type": "stream",
     "text": [
      "19444.154343551483\n"
     ]
    }
   ],
   "source": [
    "c = Thiele()\n",
    "c.reserves(20, 0)\n",
    "print(c.stati[20][0])"
   ]
  },
  {
   "cell_type": "code",
   "execution_count": 57,
   "metadata": {},
   "outputs": [],
   "source": [
    "c = Thiele()\n",
    "c.reserves(x0, 0)\n",
    "ages = [i for i in range(x0, xend)]\n",
    "rsvs = [c.reserves(j, 0) for j in ages]"
   ]
  },
  {
   "cell_type": "code",
   "execution_count": 58,
   "metadata": {},
   "outputs": [
    {
     "data": {
      "image/png": "[encoded data removed]",
      "text/plain": [
       "<Figure size 432x288 with 1 Axes>"
      ]
     },
     "metadata": {
      "needs_background": "light"
     },
     "output_type": "display_data"
    }
   ],
   "source": [
    "import matplotlib.pyplot as plt\n",
    "\n",
    "plt.plot(ages, rsvs)\n",
    "plt.show()"
   ]
  },
  {
   "cell_type": "code",
   "execution_count": 59,
   "metadata": {},
   "outputs": [],
   "source": [
    "t = Thiele()\n",
    "agest = [i for i in range(x0, xend)]\n",
    "tr = [c.transitionprobability(j, min(c.foreversick, (j - x0) % 10 + 1), 0) for j in agest]"
   ]
  },
  {
   "cell_type": "code",
   "execution_count": 60,
   "metadata": {},
   "outputs": [
    {
     "data": {
      "image/png": "[encoded data removed]",
      "text/plain": [
       "<Figure size 432x288 with 1 Axes>"
      ]
     },
     "metadata": {
      "needs_background": "light"
     },
     "output_type": "display_data"
    }
   ],
   "source": [
    "plt.plot(agest, tr)\n",
    "plt.show()"
   ]
  }
 ],
 "metadata": {
  "kernelspec": {
   "display_name": "Python 3",
   "language": "python",
   "name": "python3"
  },
  "language_info": {
   "codemirror_mode": {
    "name": "ipython",
    "version": 3
   },
   "file_extension": ".py",
   "mimetype": "text/x-python",
   "name": "python",
   "nbconvert_exporter": "python",
   "pygments_lexer": "ipython3",
   "version": "3.7.3"
  }
 },
 "nbformat": 4,
 "nbformat_minor": 2
}
