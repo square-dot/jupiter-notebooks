{
 "cells": [
  {
   "cell_type": "markdown",
   "metadata": {},
   "source": [
    "\\begin{align*}\n",
    "p_{* \\dagger}(x) & \\quad = \\quad \\exp(-7.85785 + 0.01538 x + 0.000577355 x^2)\\\\\n",
    "p_{* \\diamondsuit_{1}}(x) & \\quad = \\quad 3\\cdot 10^{-4} (8.4764-1.0985x + 0.055x^2)\\\\\n",
    "p_{\\diamondsuit_{k} \\dagger}(x) & \\quad = \\quad p_{* \\dagger}(x) + 0.008\\\\\n",
    "p_{\\diamondsuit_{k} *}(x) & \\quad = \\quad \\left \\{ \\array{ \\exp(-0.94(k-1)) \\cdot \\alpha(x, k), &\\text{for } k < 8 \\\\ 0, & \\text{otherwise}} \\right.\\\\\n",
    "\\alpha(x,k) & \\quad = \\quad \\max(0,0.773763-0.01045(x-k + 1))\\\\\n",
    "\\end{align*}"
   ]
  },
  {
   "cell_type": "code",
   "execution_count": null,
   "metadata": {},
   "outputs": [],
   "source": [
    "# Mortality for healthy at age x\n",
    "def mua(x):\n",
    "    return(np.exp(-7.85785 + 0.01538*x + 0.000577355*x**2))\n",
    "\n",
    "# Mortality for disabled at age x\n",
    "def mui(x):\n",
    "    return(mua(x)+0.008)\n",
    "\n",
    "#Probability to become disabled at age x\n",
    "def sigma(x):\n",
    "    return(3.e-4 * (8.4764-1.0985*x + 0.055*x**2))\n",
    "def alpha(x,k):\n",
    "    return(max(0,0.773763-0.01045*(x-k + 1)))\n",
    "\n",
    "# Reactivation probability for state \\diamondsuit_k and age x\n",
    "def rx(x,k,n=8):\n",
    "    if (k>= n): return(0.)\n",
    "    return(np.exp(-0.94*(k-1)) * alpha(x, k))"
   ]
  },
  {
   "cell_type": "code",
   "execution_count": 4,
   "metadata": {},
   "outputs": [],
   "source": [
    "# Start age of insurance\n",
    "x0 = 25\n",
    "# End age ie last payment in period [s-1,s[\n",
    "s = 65\n",
    "# Interest Rate\n",
    "iRate = 0.02\n",
    "# Annual Annuity\n",
    "Annuity = 12000"
   ]
  },
  {
   "cell_type": "code",
   "execution_count": null,
   "metadata": {},
   "outputs": [],
   "source": [
    "# Thiele's equation\n",
    "\n",
    "v25 = 0\n",
    "for i in range(s - x0)\n",
    "    v25 = \n",
    "    \n"
   ]
  }
 ],
 "metadata": {
  "kernelspec": {
   "display_name": "Python 3",
   "language": "python",
   "name": "python3"
  },
  "language_info": {
   "codemirror_mode": {
    "name": "ipython",
    "version": 3
   },
   "file_extension": ".py",
   "mimetype": "text/x-python",
   "name": "python",
   "nbconvert_exporter": "python",
   "pygments_lexer": "ipython3",
   "version": "3.7.3"
  }
 },
 "nbformat": 4,
 "nbformat_minor": 2
}
