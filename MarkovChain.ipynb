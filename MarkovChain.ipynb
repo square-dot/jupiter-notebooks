{
 "cells": [
  {
   "cell_type": "code",
   "execution_count": 8,
   "metadata": {},
   "outputs": [],
   "source": [
    "def sigma(t):\n",
    "    return 0.0004 + 10**(0.060 * t - 5.46)"
   ]
  },
  {
   "cell_type": "code",
   "execution_count": 9,
   "metadata": {},
   "outputs": [],
   "source": [
    "def mu(t):\n",
    "    return 0.0005 + 10**(0.038 * t - 4.12)"
   ]
  },
  {
   "cell_type": "code",
   "execution_count": 39,
   "metadata": {},
   "outputs": [],
   "source": [
    "startingage = 30\n",
    "step = 0.001\n",
    "allsteps = int(35/step)\n",
    "t = [startingage]\n",
    "y = [1]\n",
    "def f(time, status):\n",
    "    return -status * (mu(time) + sigma(time))\n",
    "\n",
    "for i in range(allsteps-1):\n",
    "    k1 = f(t[i], y[i])\n",
    "    k2 = f(t[i] + step/2, y[i] + step*k1/2)\n",
    "    k3 = f(t[i] + step/2, y[i] + step*k2/2)\n",
    "    k4 = f(t[i] + step, y[i] + step*k3)\n",
    "    y.append(y[i] + 1/6 * step * (k1 + 2*k2 + 2*k3 + k4))\n",
    "    t.append(t[i] + step)"
   ]
  },
  {
   "cell_type": "code",
   "execution_count": 40,
   "metadata": {},
   "outputs": [
    {
     "data": {
      "image/png": "[encoded data removed]",
      "text/plain": [
       "<Figure size 432x288 with 1 Axes>"
      ]
     },
     "metadata": {
      "needs_background": "light"
     },
     "output_type": "display_data"
    }
   ],
   "source": [
    "import matplotlib.pyplot as plt\n",
    "\n",
    "plt.plot(t, y)\n",
    "plt.show()"
   ]
  },
  {
   "cell_type": "code",
   "execution_count": 42,
   "metadata": {},
   "outputs": [
    {
     "name": "stdout",
     "output_type": "stream",
     "text": [
      "0.7568720844025715\n"
     ]
    }
   ],
   "source": [
    "print(y[30000])"
   ]
  },
  {
   "cell_type": "code",
   "execution_count": null,
   "metadata": {},
   "outputs": [],
   "source": []
  }
 ],
 "metadata": {
  "kernelspec": {
   "display_name": "Python 3",
   "language": "python",
   "name": "python3"
  },
  "language_info": {
   "codemirror_mode": {
    "name": "ipython",
    "version": 3
   },
   "file_extension": ".py",
   "mimetype": "text/x-python",
   "name": "python",
   "nbconvert_exporter": "python",
   "pygments_lexer": "ipython3",
   "version": "3.7.3"
  }
 },
 "nbformat": 4,
 "nbformat_minor": 2
}
