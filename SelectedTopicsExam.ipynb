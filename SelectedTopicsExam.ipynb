{
 "cells": [
  {
   "cell_type": "markdown",
   "metadata": {},
   "source": [
    "# Optimization of a health insurance"
   ]
  },
  {
   "cell_type": "markdown",
   "metadata": {},
   "source": [
    "\\begin{align*}\n",
    "p_{* \\dagger}(x) & \\quad = \\quad \\exp(-7.85785 + 0.01538 x + 0.000577355 x^2)\\\\\n",
    "p_{* \\diamondsuit_{1}}(x) & \\quad = \\quad 3\\cdot 10^{-4} \\cdot (8.4764-1.0985x + 0.055x^2)\\\\\n",
    "p_{\\diamondsuit_{k} \\dagger}(x) & \\quad = \\quad p_{* \\dagger}(x) + 0.008\\\\\n",
    "p_{\\diamondsuit_{k} *}(x) & \\quad = \\quad \\left \\{ \\array{ \\exp(-0.94(k-1)) \\cdot \\alpha(x, k), &\\text{for } k < 8 \\\\ 0, & \\text{otherwise}} \\right.\\\\\n",
    "\\alpha(x,k) & \\quad = \\quad \\max(0,0.773763-0.01045(x-k + 1))\\\\\n",
    "\\end{align*}"
   ]
  },
  {
   "cell_type": "markdown",
   "metadata": {},
   "source": [
    "## Possible strategies\n",
    "\n",
    "1. No action; then the above model and assumptions are used\n",
    "2. For all active people one can reduce disability incidence rate (sigma(x)) by 17.5% (RedToInval = 0.175) for an annual cost of 150 (CostActive = 150)\n",
    "3. For all active people with an age (< 45) one can reduce incidence rate by 70% for an annual cost of 5\n",
    "4. For disabled people one can increase reactivation probability by 20% for a cost of 1500."
   ]
  },
  {
   "cell_type": "code",
   "execution_count": 1,
   "metadata": {},
   "outputs": [],
   "source": [
    "import numpy as np"
   ]
  },
  {
   "cell_type": "code",
   "execution_count": 2,
   "metadata": {},
   "outputs": [],
   "source": [
    "#Probability stay healty 25-65\n",
    "def alwayshealty(n):\n",
    "    if (n < 25): raise ValueError('The age has to be between 25 and 65 years')\n",
    "    if (n == 25): return 1\n",
    "    return alwayshealty(n-1) - mua(n - 1) - mui(n - 1)"
   ]
  },
  {
   "cell_type": "code",
   "execution_count": 3,
   "metadata": {},
   "outputs": [],
   "source": [
    "class Strategy():\n",
    "        \n",
    "    def __init__(self):\n",
    "        # Reduction of the disability incidence rate\n",
    "        self.sigmareduction = 0.\n",
    "        # Cost to reduce disability incidence rate\n",
    "        self.costsigmareduction = 0.\n",
    "        # Reduce mortality\n",
    "        self.mureduction = 0.\n",
    "        # Cost to reduce mortality\n",
    "        self.costmureduction = 0.\n",
    "        # Age limit for mortality reduction (<)\n",
    "        self.mureductionlimitage = 45\n",
    "        # Reactivation probability increase\n",
    "        self.reactivationincrease = 0.\n",
    "        # Reactivation probability increase cost\n",
    "        self.costreactivationincrease = 0.\n",
    "\n",
    "    def __hash__(self):\n",
    "            return hash(self.__class__)\n",
    "        \n",
    "    def __eq__(self, other):\n",
    "             return (self.__class__ == other.__class__)\n",
    "        \n",
    "    # Mortality for healthy at age x\n",
    "    def mua(self, x):\n",
    "        factor = 1.\n",
    "        if (x < self.mureductionlimitage): factor = 1 - self.mureduction\n",
    "        return np.exp(-7.85785 + 0.01538*x + 0.000577355*x**2) * factor\n",
    "\n",
    "    # Mortality for disabled at age x\n",
    "    def mui(self, x):\n",
    "        return(self.mua(x)+0.008)\n",
    "\n",
    "    #Probability to become disabled at age x\n",
    "    def sigma(self, x):\n",
    "        return(3.e-4 * (8.4764-1.0985*x + 0.055*x**2)) * (1 - self.sigmareduction)\n",
    "    \n",
    "    def alpha(self, x,k):\n",
    "        return(max(0,0.773763-0.01045*(x - k + 1)))\n",
    "    # Reactivation probability for state \\diamondsuit_k and age x\n",
    "    def rx(self, x, k, foreversick):\n",
    "        if (k>= foreversick): return(0.)\n",
    "        return np.exp(-0.94*(k-1)) * self.alpha(x, k) * (1 + self.reactivationincrease)\n",
    "\n",
    "    def stayhealty(self, x):\n",
    "        return 1 - self.mua(x) - self.sigma(x)\n",
    "\n",
    "    def staysick(self, x, status, foreversick):\n",
    "        return 1 - self.mui(x) - self.rx(x, status, foreversick)    \n",
    "    \n",
    "    def cost(self):\n",
    "        return self.costsigmareduction + self.costmureduction + self.costreactivationincrease\n",
    "\n",
    "\n",
    "        \n",
    "class NoAction(Strategy):\n",
    "    \n",
    "    def __init__(self):\n",
    "        super().__init__()\n",
    "        \n",
    "    def color(self):\n",
    "        return \"b\"\n",
    "    \n",
    "    def description(self):\n",
    "        return \"No action\"\n",
    "\n",
    "\n",
    "class ReduceDisabilityIncidence(Strategy):\n",
    "    \n",
    "    def __init__(self):\n",
    "        super().__init__()\n",
    "        # Reduction of the disability incidence rate\n",
    "        self.sigmareduction = 0.175\n",
    "        # Cost to reduce disability incidence rate\n",
    "        self.costsigmareduction = 150\n",
    "        \n",
    "    def color(self):\n",
    "        return \"g\"\n",
    "    \n",
    "    def description(self):\n",
    "        return \"Reduce disability\"\n",
    "    \n",
    "    \n",
    "class ReduceMortality(Strategy):\n",
    "    \n",
    "    def __init__(self):\n",
    "        super().__init__()\n",
    "        # Reduce mortality\n",
    "        self.mureduction = 0.7\n",
    "        # Cost to reduce mortality\n",
    "        self.mureductioncost = 5.\n",
    "\n",
    "    def color(self):\n",
    "        return \"y\"\n",
    "    \n",
    "    def description(self):\n",
    "        return \"Reduce mortality\"        \n",
    "        \n",
    "        \n",
    "class IncreaseReactivation(Strategy):\n",
    "    \n",
    "    def __init__(self):\n",
    "        super().__init__()\n",
    "        # Reactivation probability increase\n",
    "        self.reactivationincrease = 0.2\n",
    "        # Reactivation probability increase cost\n",
    "        self.costreactivationincrease = 1500.\n",
    "        \n",
    "    def color(self):\n",
    "        return \"r\"\n",
    "    \n",
    "    def description(self):\n",
    "        return \"Increase reactivation\""
   ]
  },
  {
   "cell_type": "code",
   "execution_count": 4,
   "metadata": {},
   "outputs": [],
   "source": [
    "# Thiele's equation\n",
    "\n",
    "class Thiele():\n",
    "    \n",
    "    def __init__(self):\n",
    "        # Caching results\n",
    "        self.stati = {}\n",
    "        # Codes for the stati of the insured\n",
    "        self.healthy = 0\n",
    "        self.firstsick = 1\n",
    "        self.foreversick = 8\n",
    "        self.dead = self.foreversick + 1\n",
    "        self.sicknessrange = range(1, self.dead)\n",
    "        self.allrange = range(self.healthy, self.dead + 1)\n",
    "        # Annual Annuity\n",
    "        self.annuity = 12000.\n",
    "        # Interest Rate\n",
    "        self.interestrate = 0.02\n",
    "        # Starting Age\n",
    "        self.x0 = 20\n",
    "        # End age ie last payment in period [s-1,s[ \n",
    "        self.xend = 65\n",
    "        # Possible strategies\n",
    "        self.strategies = [NoAction(), ReduceDisabilityIncidence(), ReduceMortality(), IncreaseReactivation()]\n",
    "        \n",
    "    \n",
    "    def alreadycalculated(self, n, status, strat):\n",
    "        retrieved = self.stati.get(n)\n",
    "        if (retrieved == None): return False\n",
    "        else:\n",
    "            retrieved = retrieved.get(status)\n",
    "            if (retrieved == None): return False\n",
    "            else: return (retrieved.get(strat) != None)\n",
    "    \n",
    "    def save(self, n, status, strategy, res):\n",
    "        retrievedyear = self.stati.get(n)\n",
    "        if (retrievedyear == None): self.stati[n] = {status: {strategy: res}}\n",
    "        else: \n",
    "            retrievedstatus = retrievedyear.get(status)\n",
    "            if (retrievedstatus == None): retrievedyear[status] = {strategy: res}\n",
    "            else: self.stati[n][status][strategy] = res\n",
    "        \n",
    "    def prepayment(self, n, status, strategy):\n",
    "        if (status == self.healthy or status == self.dead):\n",
    "            return strategy.cost()\n",
    "        elif (status in self.sicknessrange):\n",
    "            return self.annuity + strategy.cost()\n",
    "        else:\n",
    "            raise ValueError('The status given for the prepayment is not contemplated')\n",
    "\n",
    "    def postpayment(self, n, status, newstatus):\n",
    "        return 0.\n",
    "\n",
    "    def transitionprobability(self, n, status, newstatus, strat):\n",
    "            if (status == self.healthy):\n",
    "                if (newstatus == self.healthy): return strat.stayhealty(n)\n",
    "                elif (newstatus == self.firstsick): return strat.sigma(n)\n",
    "                elif (newstatus == self.dead): return strat.mua(n)\n",
    "                else: return 0.\n",
    "            elif (status in self.sicknessrange):\n",
    "                if (newstatus == self.dead): return strat.mui(n)\n",
    "                elif (newstatus == self.healthy): return strat.rx(n, status, self.foreversick)\n",
    "                elif (newstatus == status + 1): return strat.staysick(n, status, self.foreversick)\n",
    "                else: return 0.\n",
    "            elif (status == self.dead):\n",
    "                if (newstatus == self.dead): return 1.\n",
    "                else: return 0.               \n",
    "            else:\n",
    "                raise ValueError(f\"The status {status} given for the transition probability is not contemplated\")\n",
    "\n",
    "    def reserves(self, n, status, strat):\n",
    "        if (n == self.xend): return 0.\n",
    "        if (status == self.dead): return 0.\n",
    "        if self.alreadycalculated(n, status, strat): return self.stati[n][status][strat]\n",
    "        interest = 1/(1 + self.interestrate)\n",
    "        subsequent = 0\n",
    "        for newstatus in range(self.dead + 1):\n",
    "            tp = self.transitionprobability(n, status, newstatus, strat)\n",
    "            if tp > 0:\n",
    "                subsequent += tp * (self.postpayment(n, status, newstatus) + self.minreserves(n+1, newstatus))\n",
    "        res = self.prepayment(n, status, strat) + interest * subsequent\n",
    "        self.save(n, status, strat, res)\n",
    "        return res\n",
    "    \n",
    "    def minreserves(self, n, status):\n",
    "        return min([self.reserves(n, status, strat) for strat in self.strategies])"
   ]
  },
  {
   "cell_type": "code",
   "execution_count": 5,
   "metadata": {},
   "outputs": [],
   "source": [
    "c = Thiele()\n",
    "c.reserves(c.x0, 0, NoAction())\n",
    "ages = [i for i in range(c.x0, c.xend + 1)]\n",
    "rsvs = [c.reserves(j, 0, NoAction()) for j in ages]"
   ]
  },
  {
   "cell_type": "code",
   "execution_count": 6,
   "metadata": {},
   "outputs": [
    {
     "data": {
      "text/plain": [
       "<Figure size 640x480 with 1 Axes>"
      ]
     },
     "metadata": {},
     "output_type": "display_data"
    }
   ],
   "source": [
    "import matplotlib.pyplot as plt\n",
    "\n",
    "plt.plot(ages, rsvs, linewidth=0.6, marker = \".\")\n",
    "plt.title(\"Reserves at different ages of the insured\")\n",
    "plt.xlabel(\"Age of the insured\")\n",
    "plt.ylabel(\"Reserves\")\n",
    "plt.grid(color = 'green', linestyle = '--', linewidth = 0.5)\n",
    "plt.xticks(np.arange(min(ages), max(ages)+1, 5))\n",
    "plt.show()"
   ]
  },
  {
   "cell_type": "code",
   "execution_count": 7,
   "metadata": {},
   "outputs": [],
   "source": [
    "base = [[min(c.strategies, key = lambda strat: c.reserves(j, s, strat)) for j in ages] for s in c.allrange]"
   ]
  },
  {
   "cell_type": "code",
   "execution_count": 8,
   "metadata": {},
   "outputs": [
    {
     "data": {
      "image/png": "[encoded data removed]",
      "text/plain": [
       "<Figure size 432x288 with 1 Axes>"
      ]
     },
     "metadata": {
      "needs_background": "light"
     },
     "output_type": "display_data"
    }
   ],
   "source": [
    "import matplotlib.patches as mpatches\n",
    "\n",
    "fig, ax = plt.subplots()\n",
    "for s in c.allrange:\n",
    "    ax.scatter(ages, [s for t in base[s]], color=[t.color() for t in base[s]])\n",
    "\n",
    "plt.yticks(range(c.healthy - 1, c.dead + 2))\n",
    "plt.xticks(np.arange(min(ages), max(ages)+1, 5))\n",
    "handles = [mpatches.Patch(color=st.color(), label=st.description()) for st in c.strategies]\n",
    "ax.legend(handles = handles, loc='upper center', bbox_to_anchor=(0.5, -0.1),\n",
    "          fancybox=True, shadow=True, ncol=5)\n",
    "plt.setp(ax.get_yticklabels()[0], visible=False)\n",
    "plt.setp(ax.get_yticklabels()[-1], visible=False)\n",
    "\n",
    "plt.show()"
   ]
  },
  {
   "cell_type": "code",
   "execution_count": null,
   "metadata": {},
   "outputs": [],
   "source": []
  },
  {
   "cell_type": "code",
   "execution_count": null,
   "metadata": {},
   "outputs": [],
   "source": []
  }
 ],
 "metadata": {
  "kernelspec": {
   "display_name": "Python 3",
   "language": "python",
   "name": "python3"
  },
  "language_info": {
   "codemirror_mode": {
    "name": "ipython",
    "version": 3
   },
   "file_extension": ".py",
   "mimetype": "text/x-python",
   "name": "python",
   "nbconvert_exporter": "python",
   "pygments_lexer": "ipython3",
   "version": "3.7.3"
  }
 },
 "nbformat": 4,
 "nbformat_minor": 2
}
