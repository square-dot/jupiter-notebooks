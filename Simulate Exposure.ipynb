{
 "cells": [
  {
   "cell_type": "code",
   "execution_count": 1,
   "metadata": {},
   "outputs": [],
   "source": [
    "using Random, Distributions"
   ]
  },
  {
   "cell_type": "code",
   "execution_count": 2,
   "metadata": {},
   "outputs": [],
   "source": [
    "struct Risk \n",
    "    Id::Int\n",
    "    Name::String\n",
    "    Exposure::Float64\n",
    "    MeanPoD::Float64\n",
    "    Rating::Int\n",
    "    AccumulationId::Int\n",
    "    Region::Int\n",
    "    Sector::Int\n",
    "end"
   ]
  },
  {
   "cell_type": "code",
   "execution_count": 3,
   "metadata": {},
   "outputs": [],
   "source": [
    "struct Status\n",
    "    Id::Int\n",
    "    Probability::Float64\n",
    "    PoDModifiers::Vector{Float64}\n",
    "end "
   ]
  },
  {
   "cell_type": "code",
   "execution_count": 4,
   "metadata": {},
   "outputs": [],
   "source": [
    "struct Region\n",
    "    Id::Int\n",
    "    Name::String\n",
    "    Status::Status\n",
    "end"
   ]
  },
  {
   "cell_type": "code",
   "execution_count": 5,
   "metadata": {},
   "outputs": [],
   "source": [
    "struct Sector\n",
    "    Id::Int\n",
    "    Name::String\n",
    "    Status::Status\n",
    "end"
   ]
  },
  {
   "cell_type": "code",
   "execution_count": 6,
   "metadata": {},
   "outputs": [],
   "source": [
    "struct GlobalShock\n",
    "    PoDModifies::Vector{Float64}\n",
    "end"
   ]
  },
  {
   "cell_type": "code",
   "execution_count": 7,
   "metadata": {},
   "outputs": [],
   "source": [
    "struct Scenario\n",
    "    Id::Int\n",
    "    GlobalShock::Bool\n",
    "    Regions::Vector{Region}\n",
    "    Sectors::Vector{Sector}\n",
    "end"
   ]
  },
  {
   "cell_type": "code",
   "execution_count": 8,
   "metadata": {},
   "outputs": [
    {
     "data": {
      "text/plain": [
       "select_random_entry (generic function with 1 method)"
      ]
     },
     "execution_count": 8,
     "metadata": {},
     "output_type": "execute_result"
    }
   ],
   "source": [
    "function select_random_entry(entries::Vector)\n",
    "    r = rand() * length(entries)\n",
    "    index = findfirst(i -> i > r, 1:length(entries))\n",
    "    return index\n",
    "end"
   ]
  },
  {
   "cell_type": "code",
   "execution_count": 9,
   "metadata": {},
   "outputs": [
    {
     "data": {
      "text/plain": [
       "generate_regions (generic function with 1 method)"
      ]
     },
     "execution_count": 9,
     "metadata": {},
     "output_type": "execute_result"
    }
   ],
   "source": [
    "function generate_regions(regions_names::Vector, statuses::Vector)\n",
    "    regions = []\n",
    "    for (index, region_name) in enumerate(regions_names)\n",
    "        r = rand()\n",
    "        selected_status = statuses[findfirst(s -> s.Probability > r, statuses)]\n",
    "        push!(regions, Region(index, region_name, selected_status))\n",
    "    end\n",
    "    return regions\n",
    "end"
   ]
  },
  {
   "cell_type": "code",
   "execution_count": 10,
   "metadata": {},
   "outputs": [
    {
     "data": {
      "text/plain": [
       "generate_sectors (generic function with 1 method)"
      ]
     },
     "execution_count": 10,
     "metadata": {},
     "output_type": "execute_result"
    }
   ],
   "source": [
    "function generate_sectors(sectors_names::Vector, statuses::Vector)\n",
    "    sectors = []\n",
    "    for (index, sector_name) in enumerate(sectors_names)\n",
    "        r = rand()\n",
    "        selected_status = statuses[findfirst(s -> s.Probability > r, statuses)]\n",
    "        push!(sectors, Sector(index, sector_name, selected_status))\n",
    "    end\n",
    "    return sectors\n",
    "end"
   ]
  },
  {
   "cell_type": "code",
   "execution_count": 11,
   "metadata": {},
   "outputs": [
    {
     "data": {
      "text/plain": [
       "generate_scenarios (generic function with 1 method)"
      ]
     },
     "execution_count": 11,
     "metadata": {},
     "output_type": "execute_result"
    }
   ],
   "source": [
    "function generate_scenarios(number_of_scenarios, regions_names, secors_names)\n",
    "    scenarios = [Scenario(i, false, generate_regions(regions_names, statuses), generate_sectors(sectors_names, statuses)) for i in 1:number_of_scenarios]\n",
    "end"
   ]
  },
  {
   "cell_type": "code",
   "execution_count": 12,
   "metadata": {},
   "outputs": [
    {
     "data": {
      "text/plain": [
       "generate_risks (generic function with 1 method)"
      ]
     },
     "execution_count": 12,
     "metadata": {},
     "output_type": "execute_result"
    }
   ],
   "source": [
    "function generate_risks(number_of_risks, region_names, sector_names, ratings, exposure_distribution)\n",
    "    return [Risk(i, randstring(), rand(exposure_distribution) , 0.005 + (rand() / 10), select_random_entry(ratings),\n",
    "        1, select_random_entry(regions_names), select_random_entry(sectors_names)) for i in 1:number_of_risks]\n",
    "end"
   ]
  },
  {
   "cell_type": "code",
   "execution_count": 13,
   "metadata": {},
   "outputs": [],
   "source": [
    "regions_names = [\"Europe\", \"North America\", \"South America\", \"Africa\", \"Asia\", \"Oceania\"];\n",
    "\n",
    "sectors_names = [\"Agriculture\", \"Raw Materials Production\", \"Energy production\", \"Heavy Industry\", \"Clothing Industry\", \"Tech Industry\", \"Logistics\", \"Other Services\"];\n",
    "\n",
    "ratings = [\"A\", \"B+\", \"B\", \"C\"];\n",
    "\n",
    "statuses = [Status(1, 0.57, [0.3, 0.4, 0.6, 0.7]),\n",
    "    Status(2, 0.70, [0.3, 0.4, 0.6, 0.7]),\n",
    "    Status(3, 0.77, [0.3, 0.4, 0.6, 0.7]),\n",
    "    Status(4, 0.86, [0.3, 0.4, 0.6, 0.7]),\n",
    "    Status(5, 0.94, [0.3, 0.4, 0.6, 0.7]),\n",
    "    Status(6, 1, [0.3, 0.4, 0.6, 0.7])];"
   ]
  },
  {
   "cell_type": "code",
   "execution_count": 22,
   "metadata": {},
   "outputs": [],
   "source": [
    "#generate risks\n",
    "risks = generate_risks(1000, regions_names, sectors_names, ratings, Normal(1000000, 200000))\n",
    "\n",
    "#generate scenarios\n",
    "scenarios = generate_scenarios(100000, regions_names, sectors_names);"
   ]
  },
  {
   "cell_type": "code",
   "execution_count": 23,
   "metadata": {},
   "outputs": [
    {
     "data": {
      "text/plain": [
       "loss (generic function with 1 method)"
      ]
     },
     "execution_count": 23,
     "metadata": {},
     "output_type": "execute_result"
    }
   ],
   "source": [
    "function modifier(id::Int, rating::Int, selection::Vector, statuses::Vector)\n",
    "    selected = selection[findfirst(s -> s.Id == id, selection)]\n",
    "    return (statuses[selected.Status.Id]).PoDModifiers[rating]\n",
    "end\n",
    "\n",
    "function bankrupt(risk, scenario, statuses)\n",
    "    pod = risk.MeanPoD * modifier(risk.Region, risk.Rating, scenario.Regions, statuses) * modifier(risk.Sector, risk.Rating, scenario.Sectors, statuses)\n",
    "    return rand() < pod;\n",
    "end\n",
    "\n",
    "function loss(risk)\n",
    "    return rand(Beta(2, 5)) * risk.Exposure\n",
    "end"
   ]
  },
  {
   "cell_type": "code",
   "execution_count": 24,
   "metadata": {},
   "outputs": [
    {
     "data": {
      "text/plain": [
       "calculate_loss_per_risk_per_scenario (generic function with 1 method)"
      ]
     },
     "execution_count": 24,
     "metadata": {},
     "output_type": "execute_result"
    }
   ],
   "source": [
    "function calculate_loss_per_risk_per_scenario(risks, scenarios)\n",
    "    return [bankrupt(risk, scenario, statuses) ? loss(risk) : 0 for risk in risks for scenario in scenarios]\n",
    "end"
   ]
  },
  {
   "cell_type": "code",
   "execution_count": 25,
   "metadata": {},
   "outputs": [
    {
     "data": {
      "text/plain": [
       "4.1620791438143665e11"
      ]
     },
     "execution_count": 25,
     "metadata": {},
     "output_type": "execute_result"
    }
   ],
   "source": [
    "res = calculate_loss_per_risk_per_scenario(risks, scenarios)\n",
    "\n",
    "total_loss = sum(res)"
   ]
  },
  {
   "cell_type": "code",
   "execution_count": null,
   "metadata": {},
   "outputs": [],
   "source": []
  }
 ],
 "metadata": {
  "kernelspec": {
   "display_name": "Julia 1.6.7",
   "language": "julia",
   "name": "julia-1.6"
  },
  "language_info": {
   "file_extension": ".jl",
   "mimetype": "application/julia",
   "name": "julia",
   "version": "1.6.7"
  }
 },
 "nbformat": 4,
 "nbformat_minor": 2
}
